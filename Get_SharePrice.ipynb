{
 "cells": [
  {
   "cell_type": "code",
   "execution_count": 4,
   "id": "1234a870-31d0-4466-af7b-91837e6087cd",
   "metadata": {},
   "outputs": [
    {
     "name": "stdout",
     "output_type": "stream",
     "text": [
      "Requirement already satisfied: yfinance in c:\\users\\areeb\\appdata\\local\\programs\\python\\python313\\lib\\site-packages (0.2.65)\n",
      "Requirement already satisfied: pandas in c:\\users\\areeb\\appdata\\local\\programs\\python\\python313\\lib\\site-packages (2.2.3)\n",
      "Requirement already satisfied: numpy>=1.16.5 in c:\\users\\areeb\\appdata\\local\\programs\\python\\python313\\lib\\site-packages (from yfinance) (2.2.5)\n",
      "Requirement already satisfied: requests>=2.31 in c:\\users\\areeb\\appdata\\local\\programs\\python\\python313\\lib\\site-packages (from yfinance) (2.32.3)\n",
      "Requirement already satisfied: multitasking>=0.0.7 in c:\\users\\areeb\\appdata\\local\\programs\\python\\python313\\lib\\site-packages (from yfinance) (0.0.11)\n",
      "Requirement already satisfied: platformdirs>=2.0.0 in c:\\users\\areeb\\appdata\\local\\programs\\python\\python313\\lib\\site-packages (from yfinance) (4.3.7)\n",
      "Requirement already satisfied: pytz>=2022.5 in c:\\users\\areeb\\appdata\\local\\programs\\python\\python313\\lib\\site-packages (from yfinance) (2025.2)\n",
      "Requirement already satisfied: frozendict>=2.3.4 in c:\\users\\areeb\\appdata\\local\\programs\\python\\python313\\lib\\site-packages (from yfinance) (2.4.6)\n",
      "Requirement already satisfied: peewee>=3.16.2 in c:\\users\\areeb\\appdata\\local\\programs\\python\\python313\\lib\\site-packages (from yfinance) (3.18.2)\n",
      "Requirement already satisfied: beautifulsoup4>=4.11.1 in c:\\users\\areeb\\appdata\\local\\programs\\python\\python313\\lib\\site-packages (from yfinance) (4.13.4)\n",
      "Requirement already satisfied: curl_cffi>=0.7 in c:\\users\\areeb\\appdata\\local\\programs\\python\\python313\\lib\\site-packages (from yfinance) (0.12.0)\n",
      "Requirement already satisfied: protobuf>=3.19.0 in c:\\users\\areeb\\appdata\\local\\programs\\python\\python313\\lib\\site-packages (from yfinance) (6.31.1)\n",
      "Requirement already satisfied: websockets>=13.0 in c:\\users\\areeb\\appdata\\local\\programs\\python\\python313\\lib\\site-packages (from yfinance) (15.0.1)\n",
      "Requirement already satisfied: python-dateutil>=2.8.2 in c:\\users\\areeb\\appdata\\local\\programs\\python\\python313\\lib\\site-packages (from pandas) (2.9.0.post0)\n",
      "Requirement already satisfied: tzdata>=2022.7 in c:\\users\\areeb\\appdata\\local\\programs\\python\\python313\\lib\\site-packages (from pandas) (2025.2)\n",
      "Requirement already satisfied: soupsieve>1.2 in c:\\users\\areeb\\appdata\\local\\programs\\python\\python313\\lib\\site-packages (from beautifulsoup4>=4.11.1->yfinance) (2.7)\n",
      "Requirement already satisfied: typing-extensions>=4.0.0 in c:\\users\\areeb\\appdata\\local\\programs\\python\\python313\\lib\\site-packages (from beautifulsoup4>=4.11.1->yfinance) (4.13.2)\n",
      "Requirement already satisfied: cffi>=1.12.0 in c:\\users\\areeb\\appdata\\local\\programs\\python\\python313\\lib\\site-packages (from curl_cffi>=0.7->yfinance) (1.17.1)\n",
      "Requirement already satisfied: certifi>=2024.2.2 in c:\\users\\areeb\\appdata\\local\\programs\\python\\python313\\lib\\site-packages (from curl_cffi>=0.7->yfinance) (2025.4.26)\n",
      "Requirement already satisfied: pycparser in c:\\users\\areeb\\appdata\\local\\programs\\python\\python313\\lib\\site-packages (from cffi>=1.12.0->curl_cffi>=0.7->yfinance) (2.22)\n",
      "Requirement already satisfied: six>=1.5 in c:\\users\\areeb\\appdata\\local\\programs\\python\\python313\\lib\\site-packages (from python-dateutil>=2.8.2->pandas) (1.17.0)\n",
      "Requirement already satisfied: charset-normalizer<4,>=2 in c:\\users\\areeb\\appdata\\local\\programs\\python\\python313\\lib\\site-packages (from requests>=2.31->yfinance) (3.4.2)\n",
      "Requirement already satisfied: idna<4,>=2.5 in c:\\users\\areeb\\appdata\\local\\programs\\python\\python313\\lib\\site-packages (from requests>=2.31->yfinance) (3.10)\n",
      "Requirement already satisfied: urllib3<3,>=1.21.1 in c:\\users\\areeb\\appdata\\local\\programs\\python\\python313\\lib\\site-packages (from requests>=2.31->yfinance) (2.4.0)\n",
      "                                Open       High        Low      Close  \\\n",
      "Date                                                                    \n",
      "2012-01-30 00:00:00-05:00  13.395450  13.641594  13.385833  13.614845   \n",
      "2012-01-31 00:00:00-05:00  13.692390  13.772033  13.616653  13.719138   \n",
      "2012-02-01 00:00:00-05:00  13.777143  13.794574  13.691188  13.710422   \n",
      "2012-02-02 00:00:00-05:00  13.701707  13.739875  13.644003  13.678265   \n",
      "2012-02-03 00:00:00-05:00  13.743781  13.824927  13.691487  13.815310   \n",
      "\n",
      "                              Volume  Dividends  Stock Splits  \n",
      "Date                                                           \n",
      "2012-01-30 00:00:00-05:00  379341200        0.0           0.0  \n",
      "2012-01-31 00:00:00-05:00  391683600        0.0           0.0  \n",
      "2012-02-01 00:00:00-05:00  270046000        0.0           0.0  \n",
      "2012-02-02 00:00:00-05:00  186796400        0.0           0.0  \n",
      "2012-02-03 00:00:00-05:00  286599600        0.0           0.0  \n"
     ]
    }
   ],
   "source": [
    "# Step 1: Install yfinance\n",
    "!pip install yfinance pandas\n",
    "\n",
    "# Step 2: Import required libraries\n",
    "import yfinance as yf\n",
    "import pandas as pd\n",
    "\n",
    "# Step 3: Function to get stock data\n",
    "def get_stock_data(ticker, start_date, end_date):\n",
    "    stock = yf.Ticker(ticker)\n",
    "    df = stock.history(start=start_date, end=end_date)\n",
    "    return df\n",
    "\n",
    "# Step 4: Example usage\n",
    "ticker = \"AAPL\"  # Use \".NS\" for NSE India stocks, \".BO\" for BSE\n",
    "start_date = \"2012-01-28\"\n",
    "end_date = \"2022-09-23\"\n",
    "\n",
    "stock_data = get_stock_data(ticker, start_date, end_date)\n",
    "\n",
    "# Step 5: Save to CSV (optional)\n",
    "stock_data.to_csv(\"dataset/Apple_Stock.csv\")\n",
    "\n",
    "# Preview\n",
    "print(stock_data.head())\n"
   ]
  },
  {
   "cell_type": "code",
   "execution_count": null,
   "id": "bfc94def-2f3a-476e-9bdc-5b3e5286bbc2",
   "metadata": {},
   "outputs": [],
   "source": []
  }
 ],
 "metadata": {
  "kernelspec": {
   "display_name": "Python 3 (ipykernel)",
   "language": "python",
   "name": "python3"
  },
  "language_info": {
   "codemirror_mode": {
    "name": "ipython",
    "version": 3
   },
   "file_extension": ".py",
   "mimetype": "text/x-python",
   "name": "python",
   "nbconvert_exporter": "python",
   "pygments_lexer": "ipython3",
   "version": "3.13.3"
  }
 },
 "nbformat": 4,
 "nbformat_minor": 5
}
